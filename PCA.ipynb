{
  "metadata": {
    "kernelspec": {
      "language": "python",
      "display_name": "Python 3",
      "name": "python3"
    },
    "language_info": {
      "name": "python",
      "version": "3.7.12",
      "mimetype": "text/x-python",
      "codemirror_mode": {
        "name": "ipython",
        "version": 3
      },
      "pygments_lexer": "ipython3",
      "nbconvert_exporter": "python",
      "file_extension": ".py"
    },
    "colab": {
      "name": "PCA.ipynb",
      "provenance": []
    }
  },
  "nbformat_minor": 0,
  "nbformat": 4,
  "cells": [
    {
      "cell_type": "code",
      "source": [
        "import numpy as np # linear algebra\n",
        "import pandas as pd # data processing, CSV file I/O (e.g. pd.read_csv)\n",
        "import os\n",
        "import matplotlib.pyplot as plt"
      ],
      "metadata": {
        "_uuid": "8f2839f25d086af736a60e9eeb907d3b93b6e0e5",
        "_cell_guid": "b1076dfc-b9ad-4769-8c92-a6c4dae69d19",
        "execution": {
          "iopub.status.busy": "2022-01-11T14:53:01.467124Z",
          "iopub.execute_input": "2022-01-11T14:53:01.468313Z",
          "iopub.status.idle": "2022-01-11T14:53:01.473057Z",
          "shell.execute_reply.started": "2022-01-11T14:53:01.468249Z",
          "shell.execute_reply": "2022-01-11T14:53:01.472369Z"
        },
        "trusted": true,
        "id": "X7ixKNOr1W9N"
      },
      "execution_count": 1,
      "outputs": []
    },
    {
      "cell_type": "code",
      "source": [
        "x = np.random.normal(1,1,500)\n",
        "y = np.random.normal(1,1,500)\n",
        "plt.scatter(x,y)\n",
        "plt.axis('equal')\n",
        "print(\"Cov\",np.round(np.cov(x,y)))"
      ],
      "metadata": {
        "execution": {
          "iopub.status.busy": "2022-01-11T14:53:01.998415Z",
          "iopub.execute_input": "2022-01-11T14:53:01.999567Z",
          "iopub.status.idle": "2022-01-11T14:53:02.269070Z",
          "shell.execute_reply.started": "2022-01-11T14:53:01.999520Z",
          "shell.execute_reply": "2022-01-11T14:53:02.268256Z"
        },
        "trusted": true,
        "id": "GTrjwPyJ1W9Q",
        "outputId": "b8d202ed-2966-4061-9732-08fe4127bfa5",
        "colab": {
          "base_uri": "https://localhost:8080/",
          "height": 300
        }
      },
      "execution_count": 13,
      "outputs": [
        {
          "output_type": "stream",
          "name": "stdout",
          "text": [
            "Cov [[1. 0.]\n",
            " [0. 1.]]\n"
          ]
        },
        {
          "output_type": "display_data",
          "data": {
            "text/plain": [
              "<Figure size 432x288 with 1 Axes>"
            ],
            "image/png": "[encoded data removed]"
          },
          "metadata": {
            "needs_background": "light"
          }
        }
      ]
    },
    {
      "cell_type": "code",
      "source": [
        "np.sum((y - np.mean(y))**2/500)"
      ],
      "metadata": {
        "id": "oAcxR3g42OIa",
        "outputId": "4ea51dff-984a-463c-c11e-cf203ceeadd6",
        "colab": {
          "base_uri": "https://localhost:8080/"
        }
      },
      "execution_count": 14,
      "outputs": [
        {
          "output_type": "execute_result",
          "data": {
            "text/plain": [
              "1.0842820173581762"
            ]
          },
          "metadata": {},
          "execution_count": 14
        }
      ]
    },
    {
      "cell_type": "code",
      "source": [
        "\n",
        "x = np.random.normal(1,4,500)\n",
        "y = np.random.normal(1,1,500)\n",
        "eigval,eigvec = np.linalg.eigh(np.round(np.cov(x,y)), UPLO='U')\n",
        "plt.scatter(x,y)\n",
        "data = eigvec\n",
        "origin = np.array([[0, 0], [0, 0]])\n",
        "plt.quiver(*origin, np.sqrt(eigval[1])*data[:, 0], np.sqrt(eigval[0])*data[:, 1], color=['black', 'red', 'green'], scale=15)\n",
        "plt.axis('equal')"
      ],
      "metadata": {
        "execution": {
          "iopub.status.busy": "2022-01-11T14:55:09.727430Z",
          "iopub.execute_input": "2022-01-11T14:55:09.728521Z",
          "iopub.status.idle": "2022-01-11T14:55:09.998008Z",
          "shell.execute_reply.started": "2022-01-11T14:55:09.728477Z",
          "shell.execute_reply": "2022-01-11T14:55:09.997042Z"
        },
        "trusted": true,
        "id": "oJSJl2G_1W9R",
        "outputId": "e4048ddc-07ba-4f15-dc3d-0096bdaf7098",
        "colab": {
          "base_uri": "https://localhost:8080/",
          "height": 334
        }
      },
      "execution_count": 32,
      "outputs": [
        {
          "output_type": "execute_result",
          "data": {
            "text/plain": [
              "(-11.476864378904677,\n",
              " 13.72503831324141,\n",
              " -2.9867924408896602,\n",
              " 4.5417521056227095)"
            ]
          },
          "metadata": {},
          "execution_count": 32
        },
        {
          "output_type": "display_data",
          "data": {
            "text/plain": [
              "<Figure size 432x288 with 1 Axes>"
            ],
            "image/png": "[encoded data removed]"
          },
          "metadata": {
            "needs_background": "light"
          }
        }
      ]
    },
    {
      "cell_type": "code",
      "source": [
        "eigval[1]"
      ],
      "metadata": {
        "id": "CrBdMHvD-NDt",
        "outputId": "60e7b86c-b2d5-4748-f8c6-f2ed2ddb6a5f",
        "colab": {
          "base_uri": "https://localhost:8080/"
        }
      },
      "execution_count": 34,
      "outputs": [
        {
          "output_type": "execute_result",
          "data": {
            "text/plain": [
              "16.0"
            ]
          },
          "metadata": {},
          "execution_count": 34
        }
      ]
    },
    {
      "cell_type": "code",
      "source": [
        "R = np.array([[0.7071,-0.7071],[0.7071,0.7071]])\n",
        "M = []\n",
        "for X,Y in zip(x,y):\n",
        "    M.append((X,Y))\n",
        "M = np.array(M)\n",
        "M = M.T\n",
        "RM = np.dot(R,M)"
      ],
      "metadata": {
        "execution": {
          "iopub.status.busy": "2022-01-11T14:53:11.346887Z",
          "iopub.execute_input": "2022-01-11T14:53:11.347519Z",
          "iopub.status.idle": "2022-01-11T14:53:11.354320Z",
          "shell.execute_reply.started": "2022-01-11T14:53:11.347463Z",
          "shell.execute_reply": "2022-01-11T14:53:11.353705Z"
        },
        "trusted": true,
        "id": "gHzSZ9T51W9R"
      },
      "execution_count": 16,
      "outputs": []
    },
    {
      "cell_type": "code",
      "source": [
        "x_R = RM[0]\n",
        "y_R = RM[1]\n",
        "eigval,eigvec = np.linalg.eigh(np.round(np.cov(x_R,y_R)), UPLO='U')\n",
        "plt.scatter(x_R,y_R)\n",
        "data = eigvec\n",
        "origin = np.array([[0, 0], [0, 0]])\n",
        "plt.quiver(*origin, data[:, 0], data[:, 1], color=['black', 'red', 'green'], scale=15)\n",
        "plt.axis('equal')\n",
        "print(\"Cov\",np.round(np.cov(x_R,y_R)))\n"
      ],
      "metadata": {
        "execution": {
          "iopub.status.busy": "2022-01-11T14:53:36.239130Z",
          "iopub.execute_input": "2022-01-11T14:53:36.239660Z",
          "iopub.status.idle": "2022-01-11T14:53:36.416384Z",
          "shell.execute_reply.started": "2022-01-11T14:53:36.239624Z",
          "shell.execute_reply": "2022-01-11T14:53:36.415023Z"
        },
        "trusted": true,
        "id": "KDoIM_z61W9S",
        "outputId": "a8631e9b-0a9a-4d1f-c652-ed7271803306",
        "colab": {
          "base_uri": "https://localhost:8080/",
          "height": 302
        }
      },
      "execution_count": 17,
      "outputs": [
        {
          "output_type": "stream",
          "name": "stdout",
          "text": [
            "Cov [[8. 7.]\n",
            " [7. 8.]]\n"
          ]
        },
        {
          "output_type": "display_data",
          "data": {
            "text/plain": [
              "<Figure size 432x288 with 1 Axes>"
            ],
            "image/png": "[encoded data removed]"
          },
          "metadata": {
            "needs_background": "light"
          }
        }
      ]
    },
    {
      "cell_type": "code",
      "source": [
        "COV = np.round(np.dot(np.dot(R,np.diag([4,1])),np.dot(R,np.diag([4,1])).T))\n",
        "COV"
      ],
      "metadata": {
        "execution": {
          "iopub.status.busy": "2022-01-11T14:58:08.500844Z",
          "iopub.execute_input": "2022-01-11T14:58:08.501453Z",
          "iopub.status.idle": "2022-01-11T14:58:08.511718Z",
          "shell.execute_reply.started": "2022-01-11T14:58:08.501399Z",
          "shell.execute_reply": "2022-01-11T14:58:08.510822Z"
        },
        "trusted": true,
        "id": "QuuLazqy1W9T",
        "outputId": "f625e753-e7d9-4155-f539-5b5d93d930c3",
        "colab": {
          "base_uri": "https://localhost:8080/"
        }
      },
      "execution_count": 18,
      "outputs": [
        {
          "output_type": "execute_result",
          "data": {
            "text/plain": [
              "array([[8., 7.],\n",
              "       [7., 8.]])"
            ]
          },
          "metadata": {},
          "execution_count": 18
        }
      ]
    },
    {
      "cell_type": "code",
      "source": [
        "plt.scatter(np.zeros((500,)),np.dot(eigvec.T[1],RM))"
      ],
      "metadata": {
        "execution": {
          "iopub.status.busy": "2022-01-11T14:54:20.878628Z",
          "iopub.execute_input": "2022-01-11T14:54:20.879653Z",
          "iopub.status.idle": "2022-01-11T14:54:21.083479Z",
          "shell.execute_reply.started": "2022-01-11T14:54:20.879586Z",
          "shell.execute_reply": "2022-01-11T14:54:21.082556Z"
        },
        "trusted": true,
        "id": "cZZfpzJI1W9T",
        "outputId": "a52863ad-3834-4566-e753-ab07673a527f",
        "colab": {
          "base_uri": "https://localhost:8080/",
          "height": 282
        }
      },
      "execution_count": 19,
      "outputs": [
        {
          "output_type": "execute_result",
          "data": {
            "text/plain": [
              "<matplotlib.collections.PathCollection at 0x7ff4653d76d0>"
            ]
          },
          "metadata": {},
          "execution_count": 19
        },
        {
          "output_type": "display_data",
          "data": {
            "text/plain": [
              "<Figure size 432x288 with 1 Axes>"
            ],
            "image/png": "[encoded data removed]"
          },
          "metadata": {
            "needs_background": "light"
          }
        }
      ]
    },
    {
      "cell_type": "code",
      "source": [
        "# Central Limit Theorem"
      ],
      "metadata": {
        "id": "dxOumLYClbz8"
      },
      "execution_count": 19,
      "outputs": []
    },
    {
      "cell_type": "code",
      "source": [
        "import numpy as np\n",
        "import matplotlib.pyplot as plt"
      ],
      "metadata": {
        "id": "OzFQGPjh1W9T"
      },
      "execution_count": 1,
      "outputs": []
    },
    {
      "cell_type": "code",
      "source": [
        "l = []\n",
        "for i in range(0, 1000):  \n",
        "  x = 0\n",
        "  for i in range(0,200):\n",
        "    x += np.random.uniform(0,10)\n",
        "  x = x/100\n",
        "  l.append(x)\n"
      ],
      "metadata": {
        "id": "Vv_CkHk4jP6q"
      },
      "execution_count": 2,
      "outputs": []
    },
    {
      "cell_type": "code",
      "source": [
        "plt.hist(l)"
      ],
      "metadata": {
        "id": "u8Noa4Okke81",
        "outputId": "611d8ce3-bc5c-41c5-e3c3-c835e964e310",
        "colab": {
          "base_uri": "https://localhost:8080/",
          "height": 352
        }
      },
      "execution_count": 3,
      "outputs": [
        {
          "output_type": "execute_result",
          "data": {
            "text/plain": [
              "(array([ 10.,  47., 115., 178., 230., 203., 133.,  60.,  20.,   4.]),\n",
              " array([ 8.86314184,  9.10780981,  9.35247777,  9.59714574,  9.8418137 ,\n",
              "        10.08648167, 10.33114964, 10.5758176 , 10.82048557, 11.06515354,\n",
              "        11.3098215 ]),\n",
              " <a list of 10 Patch objects>)"
            ]
          },
          "metadata": {},
          "execution_count": 3
        },
        {
          "output_type": "display_data",
          "data": {
            "text/plain": [
              "<Figure size 432x288 with 1 Axes>"
            ],
            "image/png": "[encoded data removed]"
          },
          "metadata": {
            "needs_background": "light"
          }
        }
      ]
    },
    {
      "cell_type": "code",
      "source": [
        "X = np.random.normal(0,2,1000)\n",
        "Y = np.random.normal(0,2,1000)\n",
        "Z = np.random.normal(0,2,1000)\n",
        "K = np.random.normal(0,2,1000)\n",
        "chi = X**2+Y**2+Z**2+K**2\n",
        "figure, (a,b) = plt.subplots(2)\n",
        "figure.suptitle(\"Two Subplots\")\n",
        "a.hist(X)\n",
        "b.hist(chi)\n",
        "plt.show()\n"
      ],
      "metadata": {
        "id": "AyQUe7xXlGfX",
        "outputId": "5b8e912e-0dcc-4847-8dda-f52d697964bc",
        "colab": {
          "base_uri": "https://localhost:8080/",
          "height": 294
        }
      },
      "execution_count": 18,
      "outputs": [
        {
          "output_type": "display_data",
          "data": {
            "text/plain": [
              "<Figure size 432x288 with 2 Axes>"
            ],
            "image/png": "[encoded data removed]"
          },
          "metadata": {
            "needs_background": "light"
          }
        }
      ]
    },
    {
      "cell_type": "code",
      "source": [
        ""
      ],
      "metadata": {
        "id": "psTm_04Y_sfn"
      },
      "execution_count": null,
      "outputs": []
    }
  ]
}